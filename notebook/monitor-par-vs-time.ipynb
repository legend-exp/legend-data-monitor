{
 "cells": [
  {
   "cell_type": "markdown",
   "id": "a4c665e1-3833-4658-8b86-8ded70cd9abb",
   "metadata": {},
   "source": [
    "# LEGEND data monitoring\n",
    "\n",
    "This Jupyter Notebook is a first tool built to visualize LEGEND commissioning data. Here, you can display the time evolution of given monitoring parameters, separately for each detectory type, i.e. HPGe diodes (_geds_), SiPMs (_spms_), pulser and trigger (_ch000_). In general, parameters can be shown in absolute values (i.e., you see the direct output of variables saved in dsp or hit tiers) or in percentage values (see \"%\" in y-axis label; here, the percentage is evaluated with respect to an average value of the parameter that is evaluated over the first entries of either a run or a selected time interval; the used mean value is shown in the legend for each detector)."
   ]
  },
  {
   "cell_type": "code",
   "execution_count": null,
   "id": "5e849fbc-e4dd-457d-b886-90163c1d406e",
   "metadata": {},
   "outputs": [],
   "source": [
    "%matplotlib widget\n",
    "import ipywidgets as widget\n",
    "from legend_data_monitor import ipynb_info"
   ]
  },
  {
   "cell_type": "markdown",
   "id": "d47ec228-74f6-4176-a431-b621ecf75ff3",
   "metadata": {
    "tags": []
   },
   "source": [
    "Let's load data separately for each detector type:"
   ]
  },
  {
   "cell_type": "code",
   "execution_count": null,
   "id": "70490998-1b20-4405-b5ff-a2195b1b7d33",
   "metadata": {},
   "outputs": [],
   "source": [
    "exp = \"l60\"\n",
    "period = \"p01\"\n",
    "datatype = \"phy\"\n",
    "\n",
    "\n",
    "# get info from produced pkl filenames for each detector type\n",
    "output, geds_info, spms_info, ch000_info = ipynb_info.get_dates_pars()\n",
    "# define interactive widgets for each detector type\n",
    "geds_buttons, spms_buttons, ch000_buttons = ipynb_info.widgets(\n",
    "    geds_info, spms_info, ch000_info\n",
    ")"
   ]
  },
  {
   "cell_type": "markdown",
   "id": "674dc6fb-807a-4852-b626-aea9f00da0b3",
   "metadata": {
    "tags": []
   },
   "source": [
    "# Germanium detectors"
   ]
  },
  {
   "cell_type": "markdown",
   "id": "4535200e-aee8-4cdf-97d2-d54999b39eae",
   "metadata": {},
   "source": [
    "Pick the time interval you want to inspect from the left panel; parameter and string number can be selected by clcking on the buttons that appear on the right side."
   ]
  },
  {
   "cell_type": "code",
   "execution_count": null,
   "id": "a40c5a78-d595-45b3-bc65-48bd4897cdb7",
   "metadata": {},
   "outputs": [],
   "source": [
    "try:\n",
    "    out_geds = ipynb_info.plot_geds(\n",
    "        exp + \"-\" + period + \"-\" + datatype, output, geds_info, geds_buttons\n",
    "    )\n",
    "    geds_plot = widget.VBox(\n",
    "        [\n",
    "            widget.HBox(\n",
    "                [geds_buttons[0], widget.VBox([geds_buttons[1], geds_buttons[2]])]\n",
    "            ),\n",
    "            out_geds,\n",
    "        ]\n",
    "    )\n",
    "    display(geds_plot)\n",
    "except:\n",
    "    print(\"There are no parameters to plot!\")"
   ]
  },
  {
   "cell_type": "markdown",
   "id": "d9d7b3a2-ed45-4791-8481-4ae4a9853197",
   "metadata": {},
   "source": [
    "# SiPM detectors "
   ]
  },
  {
   "cell_type": "markdown",
   "id": "a3f12e75-b4e9-4886-a3e1-1adc320aa23d",
   "metadata": {},
   "source": [
    "Pick the time interval you want to inspect from the left panel; parameter and barrel can be selected by clcking on the buttons that appear on the right side."
   ]
  },
  {
   "cell_type": "code",
   "execution_count": null,
   "id": "fb7ab381-2b87-451e-b0bb-2f8af0d20f29",
   "metadata": {},
   "outputs": [],
   "source": [
    "try:\n",
    "    out_spms = ipynb_info.plot_geds(\n",
    "        exp + \"-\" + period + \"-\" + datatype, output, spms_info, spms_buttons\n",
    "    )\n",
    "    spms_plot = widget.VBox(\n",
    "        [\n",
    "            widget.HBox(\n",
    "                [spms_buttons[0], widget.VBox([spms_buttons[1], spms_buttons[2]])]\n",
    "            ),\n",
    "            out_spms,\n",
    "        ]\n",
    "    )\n",
    "    display(spms_plot)\n",
    "except:\n",
    "    print(\"There are no parameters to plot!\")"
   ]
  },
  {
   "cell_type": "markdown",
   "id": "b6b0292e-8852-4717-aa6d-c0ba5985278e",
   "metadata": {
    "tags": []
   },
   "source": [
    "# ch000"
   ]
  },
  {
   "cell_type": "markdown",
   "id": "2ad2ec3f-ce97-451a-81f2-71d862761b4a",
   "metadata": {},
   "source": [
    "Pick the time interval you want to inspect from the left panel; the parameter can be selected by clcking on the buttons that appear on the right side."
   ]
  },
  {
   "cell_type": "code",
   "execution_count": null,
   "id": "a2a2c416-10a3-4a24-973a-a9c42f8a6c3d",
   "metadata": {
    "tags": []
   },
   "outputs": [],
   "source": [
    "try:\n",
    "    out_ch000 = ipynb_info.plot_ch000(\n",
    "        exp + \"-\" + period + \"-\" + datatype, output, ch000_info, ch000_buttons\n",
    "    )\n",
    "    ch000_plot = widget.VBox(\n",
    "        [widget.HBox([ch000_buttons[0], widget.VBox([ch000_buttons[1]])]), out_ch000]\n",
    "    )\n",
    "    display(ch000_plot)\n",
    "except:\n",
    "    print(\"There are no parameters to plot!\")"
   ]
  }
 ],
 "metadata": {},
 "nbformat": 4,
 "nbformat_minor": 5
}
