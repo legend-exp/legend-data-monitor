{
 "cells": [
  {
   "cell_type": "markdown",
   "id": "a4c665e1-3833-4658-8b86-8ded70cd9abb",
   "metadata": {},
   "source": [
    "# LEGEND data monitoring - 3D plots\n",
    "\n",
    "This Jupyter Notebook is a first tool built to visualize LEGEND commissioning data. Here, you can display the time evolution of given monitoring parameters, separately for each detectory type, i.e. HPGe diodes (_geds_), SiPMs (_spms_), pulser and trigger (_ch000_). In general, parameters can be shown in absolute values (i.e., you see the direct output of variables saved in dsp or hit tiers) or in percentage values (see \"%\" in y-axis label; here, the percentage is evaluated with respect to an average value of the parameter that is evaluated over the first entries of either a run or a selected time interval; the used mean value is shown in the legend for each detector).\n",
    "\n",
    "This notebook does not visualize SiPMs parameter plots since, apart from the event rate which is better readable in 2D format, all other variables (e.g. energy in PE, trigger position) are plotted as maps.\n",
    "Even ch000 is left out from this notebook since there is not advantage in plotting the channel in 3D. If necessary, it can be implemented in the future."
   ]
  },
  {
   "cell_type": "code",
   "execution_count": null,
   "id": "5e849fbc-e4dd-457d-b886-90163c1d406e",
   "metadata": {},
   "outputs": [],
   "source": [
    "%matplotlib widget\n",
    "import ipywidgets as widget\n",
    "from legend_data_monitor import ipynb_info"
   ]
  },
  {
   "cell_type": "markdown",
   "id": "d47ec228-74f6-4176-a431-b621ecf75ff3",
   "metadata": {
    "tags": []
   },
   "source": [
    "Let's load data separately for each detector type:"
   ]
  },
  {
   "cell_type": "code",
   "execution_count": null,
   "id": "70490998-1b20-4405-b5ff-a2195b1b7d33",
   "metadata": {},
   "outputs": [],
   "source": [
    "exp = \"l60\"\n",
    "period = \"p01\"\n",
    "datatype = \"phy\"\n",
    "\n",
    "\n",
    "# get info from produced pkl filenames for each detector type\n",
    "output, geds_info, spms_info, ch000_info = ipynb_info.get_dates_pars()\n",
    "# define interactive widgets for each detector type\n",
    "geds_buttons, spms_buttons, ch000_buttons = ipynb_info.widgets(\n",
    "    geds_info, spms_info, ch000_info\n",
    ")\n",
    "# interactive widget for z-axis range and rotation angles\n",
    "range_button = ipynb_info.widgets_3dim()"
   ]
  },
  {
   "cell_type": "markdown",
   "id": "674dc6fb-807a-4852-b626-aea9f00da0b3",
   "metadata": {
    "tags": []
   },
   "source": [
    "# Germanium detectors"
   ]
  },
  {
   "cell_type": "markdown",
   "id": "4535200e-aee8-4cdf-97d2-d54999b39eae",
   "metadata": {},
   "source": [
    "Pick the time interval you want to inspect from the left panel; parameter and string number can be selected by clcking on the respective buttons.\n",
    "\n",
    "The z-axis range can be selected by specifyin gthe minimum (*z_min*) and maximum (*z_maxa*) of the range. The default values are +- 10, but they might be changed depending on which parameters you are looking at!\n",
    "\n",
    "Rotation angles can be changed for inspecting the results from multiple perspectives. Both angles can range in \\[-360°;360°\\]."
   ]
  },
  {
   "cell_type": "code",
   "execution_count": null,
   "id": "a40c5a78-d595-45b3-bc65-48bd4897cdb7",
   "metadata": {},
   "outputs": [],
   "source": [
    "try:\n",
    "    out_geds = ipynb_info.plot_geds_3dim(\n",
    "        exp + \"-\" + period + \"-\" + datatype,\n",
    "        output,\n",
    "        geds_info,\n",
    "        geds_buttons,\n",
    "        range_button,\n",
    "    )\n",
    "    form_items = [\n",
    "        widget.VBox([geds_buttons[0]]),\n",
    "        widget.VBox([geds_buttons[1], geds_buttons[2]]),\n",
    "        widget.VBox([range_button[0], range_button[1]]),\n",
    "        widget.VBox([range_button[2], range_button[3]]),\n",
    "        out_geds,\n",
    "    ]\n",
    "    geds_plot = widget.VBox(form_items)\n",
    "    display(geds_plot)\n",
    "except:\n",
    "    print(\"There are no parameters to plot!\")"
   ]
  },
  {
   "cell_type": "markdown",
   "id": "a3f12e75-b4e9-4886-a3e1-1adc320aa23d",
   "metadata": {},
   "source": [
    "Pick the time interval you want to inspect from the left panel; parameter and barrel can be selected by clcking on the respective buttons.\n",
    "\n",
    "The z-axis range can be selected by specifyin gthe minimum (*z_min*) and maximum (*z_maxa*) of the range. The default values are +- 10, but they must be changed depending on which parameters you are looking at!\n",
    "\n",
    "Rotation angles can be changed for inspecting the results from multiple perspectives. Both angles can range in \\[-360°;360°\\].\n",
    "\n",
    "NOTE: parameters like "
   ]
  },
  {
   "cell_type": "code",
   "execution_count": null,
   "id": "fb7ab381-2b87-451e-b0bb-2f8af0d20f29",
   "metadata": {},
   "outputs": [],
   "source": [
    "try:\n",
    "    out_spms = ipynb_info.plot_spms_3dim(\n",
    "        exp + \"-\" + period + \"-\" + datatype,\n",
    "        output,\n",
    "        spms_info,\n",
    "        spms_buttons,\n",
    "        range_button,\n",
    "    )\n",
    "    form_items = [\n",
    "        widget.VBox([spms_buttons[0]]),\n",
    "        widget.VBox([spms_buttons[1], spms_buttons[2]]),\n",
    "        widget.VBox([range_button[0], range_button[1]]),\n",
    "        widget.VBox([range_button[2], range_button[3]]),\n",
    "        out_spms,\n",
    "    ]\n",
    "    spms_plot = widget.VBox(form_items)\n",
    "    display(spms_plot)\n",
    "except:\n",
    "    print(\"There are no parameters to plot!\")"
   ]
  }
 ],
 "metadata": {},
 "nbformat": 4,
 "nbformat_minor": 5
}
