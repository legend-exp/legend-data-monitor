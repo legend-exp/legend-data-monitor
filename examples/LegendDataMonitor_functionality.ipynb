{
 "cells": [
  {
   "cell_type": "code",
   "execution_count": null,
   "metadata": {},
   "outputs": [],
   "source": [
    "import legend_data_monitor as ldm"
   ]
  },
  {
   "attachments": {},
   "cell_type": "markdown",
   "metadata": {},
   "source": [
    "# General LegendDataMonitor functionality"
   ]
  },
  {
   "attachments": {},
   "cell_type": "markdown",
   "metadata": {},
   "source": [
    "## Set up Geds Subsystem and get data"
   ]
  },
  {
   "attachments": {},
   "cell_type": "markdown",
   "metadata": {},
   "source": [
    "Set up **Geds** `Subsystem` for given experiment and period (defines channel map and status)"
   ]
  },
  {
   "cell_type": "code",
   "execution_count": null,
   "metadata": {},
   "outputs": [],
   "source": [
    "geds = ldm.Subsystem(\"geds\", experiment=\"L200\", period=\"p02\")"
   ]
  },
  {
   "attachments": {},
   "cell_type": "markdown",
   "metadata": {},
   "source": [
    "The `Subsystem` object knows its channel map and status, and will use it to map channels in data (see below)"
   ]
  },
  {
   "cell_type": "code",
   "execution_count": null,
   "metadata": {},
   "outputs": [],
   "source": [
    "geds.channel_map"
   ]
  },
  {
   "attachments": {},
   "cell_type": "markdown",
   "metadata": {},
   "source": [
    "Get data for parameters of interest based on given dataset"
   ]
  },
  {
   "cell_type": "code",
   "execution_count": null,
   "metadata": {},
   "outputs": [],
   "source": [
    "geds.get_data(\n",
    "    [\"baseline\", \"cuspEmax_ctc_cal\"],\n",
    "    type=\"phy\",\n",
    "    path=\"/data1/users/marshall/prod-ref\",\n",
    "    version=\"v06.00\",\n",
    "    start=\"2023-01-26 04:30:00\",\n",
    "    end=\"2023-01-26 07:00:00\",\n",
    ")\n",
    "geds.data"
   ]
  },
  {
   "attachments": {},
   "cell_type": "markdown",
   "metadata": {},
   "source": [
    "## Flag pulser events"
   ]
  },
  {
   "cell_type": "code",
   "execution_count": null,
   "metadata": {},
   "outputs": [],
   "source": [
    "# set up Pulser Subsystem\n",
    "pulser = ldm.Subsystem(\"pulser\", experiment=\"L200\", period=\"p02\")\n",
    "# get general Pulser data with pulser event flag corresponding to the same dataset\n",
    "pulser.get_data(\n",
    "    type=\"phy\",\n",
    "    path=\"/data1/users/marshall/prod-ref\",\n",
    "    version=\"v06.00\",\n",
    "    start=\"2023-01-26 04:30:00\",\n",
    "    end=\"2023-01-26 07:00:00\",\n",
    ")\n",
    "pulser.data"
   ]
  },
  {
   "cell_type": "code",
   "execution_count": null,
   "metadata": {},
   "outputs": [],
   "source": [
    "# flag pulser events in Geds data\n",
    "geds.flag_pulser_events(pulser)\n",
    "geds.data"
   ]
  },
  {
   "attachments": {},
   "cell_type": "markdown",
   "metadata": {},
   "source": [
    "It looks like all of them are flagged `False`, but that's because most of the events are not pulser\n",
    "Let's check if there are events with `True`"
   ]
  },
  {
   "cell_type": "code",
   "execution_count": null,
   "metadata": {},
   "outputs": [],
   "source": [
    "geds.data[\"flag_pulser\"].unique()"
   ]
  },
  {
   "cell_type": "code",
   "execution_count": null,
   "metadata": {},
   "outputs": [],
   "source": [
    "# now you can select only pulser events\n",
    "geds.data[geds.data[\"flag_pulser\"]]"
   ]
  },
  {
   "cell_type": "code",
   "execution_count": null,
   "metadata": {},
   "outputs": [],
   "source": [
    "# or only non-pulser i.e. physical events\n",
    "geds.data[~geds.data[\"flag_pulser\"]]"
   ]
  },
  {
   "attachments": {},
   "cell_type": "markdown",
   "metadata": {},
   "source": [
    "## Analysis Data examples"
   ]
  },
  {
   "attachments": {},
   "cell_type": "markdown",
   "metadata": {},
   "source": [
    "### Geds `cuspEmax_ctc_cal` in physical events"
   ]
  },
  {
   "cell_type": "code",
   "execution_count": null,
   "metadata": {},
   "outputs": [],
   "source": [
    "data1 = ldm.AnalysisData(geds.data, parameters=\"cuspEmax_ctc_cal\", event_type=\"phy\")\n",
    "data1.data"
   ]
  },
  {
   "attachments": {},
   "cell_type": "markdown",
   "metadata": {},
   "source": [
    "The `cuspEmax_ctc_cal_mean` column is already there for LegendDataMonitor plotting purposes.\n",
    "\n",
    "The value is repeated for each channel, and was obtained via:"
   ]
  },
  {
   "cell_type": "code",
   "execution_count": null,
   "metadata": {},
   "outputs": [],
   "source": [
    "data1.data.groupby(\"channel\").mean(numeric_only=True)[\"cuspEmax_ctc_cal\"]"
   ]
  },
  {
   "attachments": {},
   "cell_type": "markdown",
   "metadata": {},
   "source": [
    "You can also group by detector name if that's convenient"
   ]
  },
  {
   "cell_type": "code",
   "execution_count": null,
   "metadata": {},
   "outputs": [],
   "source": [
    "data1.data.groupby(\"name\").mean(numeric_only=True)[\"cuspEmax_ctc_cal\"]"
   ]
  },
  {
   "cell_type": "code",
   "execution_count": null,
   "metadata": {},
   "outputs": [],
   "source": [
    "data1.data.groupby(\"name\").mean(numeric_only=True)[\"cuspEmax_ctc_cal\"].plot.bar(\n",
    "    figsize=(15, 3)\n",
    ")"
   ]
  },
  {
   "attachments": {},
   "cell_type": "markdown",
   "metadata": {},
   "source": [
    "Let's look at the energy distribution for a specific detector"
   ]
  },
  {
   "cell_type": "code",
   "execution_count": null,
   "metadata": {},
   "outputs": [],
   "source": [
    "ax = data1.data[data1.data[\"name\"] == \"V08682A\"][\"cuspEmax_ctc_cal\"].plot.hist(\n",
    "    histtype=\"step\", linewidth=1.5, bins=100, log=True\n",
    ")\n",
    "# for some reason xlabel=... in .plot.hist() does not work\n",
    "ax.set_xlabel(\"Energy [keV]\")\n",
    "ax.set_ylabel(\"\")\n",
    "ax.set_title(\"V08682A\")"
   ]
  },
  {
   "attachments": {},
   "cell_type": "markdown",
   "metadata": {},
   "source": [
    "### Geds `baseline` variation in pulser events"
   ]
  },
  {
   "cell_type": "code",
   "execution_count": null,
   "metadata": {},
   "outputs": [],
   "source": [
    "# % variation from the mean of Geds baselines in pulser events\n",
    "data2 = ldm.AnalysisData(\n",
    "    geds.data, parameters=\"baseline\", event_type=\"pulser\", variation=True\n",
    ")\n",
    "# now the baseline column shows %, while the mean column is preserved\n",
    "data2.data"
   ]
  },
  {
   "attachments": {},
   "cell_type": "markdown",
   "metadata": {},
   "source": [
    "Let's look at the variation trend in time for two specific detectors"
   ]
  },
  {
   "cell_type": "code",
   "execution_count": null,
   "metadata": {},
   "outputs": [],
   "source": [
    "# select data from 2 specific detectors\n",
    "data2_two_detectors = data2.data[data2.data[\"name\"].isin([\"V08682A\", \"P00661C\"])]\n",
    "# set index to datetime -> will be automatically plotted on the x-axis\n",
    "data2_two_detectors.set_index(\"datetime\").groupby(\"name\")[\"baseline\"].plot(\n",
    "    legend=True,\n",
    "    sharex=True,\n",
    "    figsize=(5, 2),\n",
    "    xlabel=\"UTC Time\",\n",
    "    ylabel=\"Baseline variation [%]\",\n",
    ")"
   ]
  },
  {
   "attachments": {},
   "cell_type": "markdown",
   "metadata": {},
   "source": [
    "I don't like how the x-axis tick labels looks like - we can use `DateFormatter` from `matplotlib.dates`  to fix ut\n",
    "\n",
    "But it only works with `datetime.datetime` type x-axis, while our `'datetime'` column is of type `Timestamp` specific to `pandas`\n",
    "-> plot through `matplotlib.pyplot` converting to `datetime.datetime` with `.dt.to_pydatetime()`\n",
    "Note: if you convert and put it back in the `DataFrame` column like this:\n",
    "```python\n",
    "data2_2dets['datetime'] = data2_2dets['datetime].dt.to_pydatetime()\n",
    "```\n",
    "it will still be of type `Timestamp` and will not work with `DateFormatter`. Believe me, I tried."
   ]
  },
  {
   "cell_type": "code",
   "execution_count": null,
   "metadata": {},
   "outputs": [],
   "source": [
    "import matplotlib.pyplot as plt\n",
    "from matplotlib.dates import DateFormatter"
   ]
  },
  {
   "cell_type": "code",
   "execution_count": null,
   "metadata": {},
   "outputs": [],
   "source": [
    "fig, ax = plt.subplots()\n",
    "for det_name, det_data in data2_two_detectors.groupby(\"name\"):\n",
    "    plt.plot(\n",
    "        det_data[\"datetime\"].dt.to_pydatetime(), det_data[\"baseline\"], label=det_name\n",
    "    )\n",
    "\n",
    "ax.set_xlabel(\"UTC Time\")\n",
    "ax.set_ylabel(\"Baseline variation [%]\")\n",
    "ax.legend()\n",
    "\n",
    "ax.xaxis.set_major_formatter(DateFormatter(\"%Y\\n%m/%d\\n%H:%M\"))"
   ]
  },
  {
   "attachments": {},
   "cell_type": "markdown",
   "metadata": {},
   "source": [
    "### Pulser event rate"
   ]
  },
  {
   "cell_type": "code",
   "execution_count": null,
   "metadata": {},
   "outputs": [],
   "source": [
    "# M - months, D - days, H - hours, T - minutes\n",
    "data3 = ldm.AnalysisData(\n",
    "    pulser.data, parameters=\"event_rate\", time_window=\"10T\", event_type=\"pulser\"\n",
    ")\n",
    "data3.data"
   ]
  },
  {
   "cell_type": "code",
   "execution_count": null,
   "metadata": {},
   "outputs": [],
   "source": [
    "ax = data3.data.plot(x=\"datetime\", y=\"event_rate\", legend=False)\n",
    "# expected rate 1/60s ~= 0.017 Hz\n",
    "# set limits to +- 30%\n",
    "ax.set_ylim([0.017 * 0.7, 0.017 * 1.3])\n",
    "ax.set_ylabel(\"Event rate [Hz]\")\n",
    "ax.set_xlabel(\"UTC Time\")\n",
    "ax.set_title(\"Pulser event rate in AUX001\")"
   ]
  },
  {
   "attachments": {},
   "cell_type": "markdown",
   "metadata": {},
   "source": [
    "# Funcionality using dict/json"
   ]
  },
  {
   "attachments": {},
   "cell_type": "markdown",
   "metadata": {},
   "source": [
    "Instead of using arguments experiment=..., period=... etc., you can give them to the functions as a dict.\n",
    "\n",
    "This can be convenient if you want to set up a config from which to read, to remember what settings you used later (much like it's being done for LegendDataMonitor plots, see below)"
   ]
  },
  {
   "attachments": {},
   "cell_type": "markdown",
   "metadata": {},
   "source": [
    "## Separate configs"
   ]
  },
  {
   "cell_type": "code",
   "execution_count": null,
   "metadata": {},
   "outputs": [],
   "source": [
    "setup = {\"experiment\": \"L200\", \"period\": \"p02\"}"
   ]
  },
  {
   "cell_type": "code",
   "execution_count": null,
   "metadata": {},
   "outputs": [],
   "source": [
    "geds1 = ldm.subsystem.Subsystem(\"geds\", setup=setup)"
   ]
  },
  {
   "cell_type": "code",
   "execution_count": null,
   "metadata": {},
   "outputs": [],
   "source": [
    "dataset = {\n",
    "    \"type\": \"phy\",\n",
    "    \"path\": \"/data1/users/marshall/prod-ref\",\n",
    "    \"version\": \"v06.00\",\n",
    "    \"selection\": {\"start\": \"2023-01-26 04:30:00\", \"end\": \"2023-01-26 07:00:00\"},\n",
    "}"
   ]
  },
  {
   "cell_type": "code",
   "execution_count": null,
   "metadata": {},
   "outputs": [],
   "source": [
    "geds1.get_data(\"baseline\", dataset=dataset)\n",
    "geds1.data"
   ]
  },
  {
   "cell_type": "code",
   "execution_count": null,
   "metadata": {},
   "outputs": [],
   "source": [
    "selection = {\"parameters\": \"event_rate\", \"event_type\": \"all\", \"time_window\": \"10T\"}"
   ]
  },
  {
   "cell_type": "code",
   "execution_count": null,
   "metadata": {},
   "outputs": [],
   "source": [
    "data4 = ldm.AnalysisData(geds1.data, selection=selection)\n",
    "data4.data"
   ]
  },
  {
   "attachments": {},
   "cell_type": "markdown",
   "metadata": {},
   "source": [
    "## Combined config example 1"
   ]
  },
  {
   "cell_type": "code",
   "execution_count": null,
   "metadata": {},
   "outputs": [],
   "source": [
    "config1 = {\n",
    "    \"setup\": {\"experiment\": \"L200\", \"period\": \"p02\"},\n",
    "    \"dataset\": {\n",
    "        \"type\": \"phy\",\n",
    "        \"path\": \"/data1/users/marshall/prod-ref\",\n",
    "        \"version\": \"v06.00\",\n",
    "        \"selection\": {\"start\": \"2023-01-26 04:30:00\", \"end\": \"2023-01-26 07:00:00\"},\n",
    "    },\n",
    "    \"analysis\": {\"parameters\": \"event_rate\", \"event_type\": \"all\", \"time_window\": \"10T\"},\n",
    "}"
   ]
  },
  {
   "cell_type": "code",
   "execution_count": null,
   "metadata": {},
   "outputs": [],
   "source": [
    "geds2 = ldm.subsystem.Subsystem(\"geds\", setup=config1[\"setup\"])\n",
    "geds2.get_data(\"baseline\", dataset=config1[\"dataset\"])\n",
    "data5 = ldm.AnalysisData(geds2.data, selection=config1[\"analysis\"])\n",
    "data5.data"
   ]
  },
  {
   "attachments": {},
   "cell_type": "markdown",
   "metadata": {},
   "source": [
    "## Combined config example 2"
   ]
  },
  {
   "cell_type": "code",
   "execution_count": null,
   "metadata": {},
   "outputs": [],
   "source": [
    "config2 = {\n",
    "    \"experiment\": \"L200\",\n",
    "    \"period\": \"p02\",\n",
    "    \"type\": \"phy\",\n",
    "    \"path\": \"/data1/users/marshall/prod-ref\",\n",
    "    \"version\": \"v06.00\",\n",
    "    \"selection\": {\"start\": \"2023-01-26 04:30:00\", \"end\": \"2023-01-26 07:00:00\"},\n",
    "    \"parameters\": \"event_rate\",\n",
    "    \"event_type\": \"all\",\n",
    "    \"time_window\": \"10T\",\n",
    "}"
   ]
  },
  {
   "cell_type": "code",
   "execution_count": null,
   "metadata": {},
   "outputs": [],
   "source": [
    "geds3 = ldm.subsystem.Subsystem(\"geds\", setup=config2)\n",
    "geds2.get_data(\"baseline\", dataset=config2)\n",
    "data5 = ldm.AnalysisData(geds2.data, selection=config2)\n",
    "data5.data"
   ]
  },
  {
   "attachments": {},
   "cell_type": "markdown",
   "metadata": {},
   "source": [
    "# LegendDataMonitor plots"
   ]
  },
  {
   "cell_type": "code",
   "execution_count": null,
   "metadata": {},
   "outputs": [],
   "source": [
    "user_config = \"user_config_example_L200.json\""
   ]
  },
  {
   "cell_type": "code",
   "execution_count": null,
   "metadata": {},
   "outputs": [],
   "source": [
    "ldm.control_plots(user_config)"
   ]
  }
 ],
 "metadata": {
  "vscode": {
   "interpreter": {
    "hash": "e7370f93d1d0cde622a1f8e1c04877d8463912d04d973331ad4851f04de6915a"
   }
  }
 },
 "nbformat": 4,
 "nbformat_minor": 2
}
