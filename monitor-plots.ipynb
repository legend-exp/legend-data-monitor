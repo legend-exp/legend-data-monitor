{
 "cells": [
  {
   "cell_type": "markdown",
   "id": "a4c665e1-3833-4658-8b86-8ded70cd9abb",
   "metadata": {},
   "source": [
    "# Offline monitoring\n",
    "\n",
    "This Jupyter Notebook helps to visualize the L60 data monitoring plots."
   ]
  },
  {
   "cell_type": "code",
   "execution_count": 11,
   "id": "5e849fbc-e4dd-457d-b886-90163c1d406e",
   "metadata": {},
   "outputs": [],
   "source": [
    "%matplotlib widget\n",
    "import os, sys, json\n",
    "import matplotlib.pyplot as plt\n",
    "from matplotlib.patches import Rectangle\n",
    "from matplotlib import dates\n",
    "import pickle as pkl\n",
    "import ipywidgets as widget\n",
    "import ipydatetime\n",
    "import datetime\n",
    "import numpy as np\n",
    "from datetime import datetime, timezone"
   ]
  },
  {
   "cell_type": "code",
   "execution_count": 12,
   "id": "5b27f832-cc53-4ae7-b52c-3bb27756fe1a",
   "metadata": {},
   "outputs": [],
   "source": [
    "def get_day_hour(date):\n",
    "    start = date.split('_')[0][:-1]\n",
    "    stop = date.split('_')[1][:-1]\n",
    "    start_day = datetime.strptime(start,\"%Y%m%dT%H%M%S\").strftime(f\"%Y/%m/%d %H:%M\")\n",
    "    stop_day = datetime.strptime(stop,\"%Y%m%dT%H%M%S\").strftime(f\"%Y/%m/%d %H:%M\")\n",
    "    \n",
    "    return start_day+\" -> \"+stop_day"
   ]
  },
  {
   "cell_type": "markdown",
   "id": "d47ec228-74f6-4176-a431-b621ecf75ff3",
   "metadata": {},
   "source": [
    "## Load data\n",
    "In the first step, you automatically select data that were generated with the latest version of ```settings/config.json```. (add a manual definition of pkl_name? what if someone wants to analyze sth different from what was generated last time?)"
   ]
  },
  {
   "cell_type": "markdown",
   "id": "1a3ff2c5-2718-463b-886d-2ceedfc06624",
   "metadata": {},
   "source": [
    "At the moment this block of code just reads info about the last generated data to retrieve exp number, period, run and datatype.\n",
    "The remaining information (time window of the analysis, parameters list, string number and barrel position) are automatically read from the name of files in the output folder: in this way every plot that has been generated and saved in the output folder can be accessed.\n",
    "\n",
    "Plot selection can be easily extended to allow selection of exp, period, run and type of data acquisition (phys, cal, other) simply from reading the name of the files in the output folder."
   ]
  },
  {
   "cell_type": "code",
   "execution_count": 14,
   "id": "e19db2bb-a8db-4ba2-8bf5-d77e0ee5fe6f",
   "metadata": {},
   "outputs": [
    {
     "name": "stdout",
     "output_type": "stream",
     "text": [
      "The following analysis will be inspected: l60-p01-r006-phy\n"
     ]
    }
   ],
   "source": [
    "with open(\"config.json\") as f: \n",
    "    j_config = json.load(f)\n",
    "\n",
    "exp         = j_config['run_info']['exp']\n",
    "period      = j_config['period']\n",
    "run         = j_config['run']\n",
    "datatype    = j_config['datatype']\n",
    "\n",
    "pkl_name = exp + '-' + period + '-' + run + '-' + datatype \n",
    "print(\"The following analysis will be inspected:\", pkl_name)"
   ]
  },
  {
   "cell_type": "markdown",
   "id": "557c58b3-9d01-4611-9dcf-7d3887d28d7e",
   "metadata": {},
   "source": [
    "Let's load the pickle files having the ```pkl_name``` in it. Germanium detectors and SiPMs will be separately analyzed (considering different parameters are plotted for each one of them and different \"string\" layouts are adopted)."
   ]
  },
  {
   "cell_type": "code",
   "execution_count": 15,
   "id": "70490998-1b20-4405-b5ff-a2195b1b7d33",
   "metadata": {},
   "outputs": [
    {
     "name": "stdout",
     "output_type": "stream",
     "text": [
      "geds map: ['string1', 'string2', 'string3', 'string4', 'string5', 'string6', 'string7']\n",
      "geds par: ['baseline']\n",
      "spms map: ['top_OB', 'bot_OB', 'top_IB', 'bot_IB']\n",
      "spms par: ['baseline', 'daqenergy']\n"
     ]
    }
   ],
   "source": [
    "pkl_files = os.listdir('out/pkl-files/par-vs-time/')\n",
    "\n",
    "geds_list = [file for file in pkl_files if 'string' in file]      #geds: grouped by string\n",
    "spms_list = [file for file in pkl_files if 'string' not in file]  #spms: everything not grouped by string\n",
    "\n",
    "if geds_list != []:\n",
    "    geds_map = list(dict.fromkeys([file.split('-')[-1].split('.')[0] for file in geds_list]))\n",
    "    geds_par = list(dict.fromkeys([file.split('-')[-2] for file in geds_list]))\n",
    "    geds_date = sorted(list(dict.fromkeys([file.split('-')[4] for file in geds_list])))\n",
    "    print(\"geds map:\", geds_map)\n",
    "    print(\"geds par:\", geds_par)\n",
    "else: print(\"-> NO data for geds was found\")\n",
    "\n",
    "geds_date_formatted = [get_day_hour(date) for date in geds_date]\n",
    "geds_time_option = [(key, value) for key,value in zip(geds_date_formatted, geds_date)]\n",
    "\n",
    "\n",
    "if spms_list != []:\n",
    "    spms_map = list(dict.fromkeys([file.split('-')[-1].split('.')[0] for file in spms_list]))\n",
    "    spms_par = list(dict.fromkeys([file.split('-')[-2] for file in spms_list]))\n",
    "    spms_date = sorted(list(dict.fromkeys([file.split('-')[4] for file in spms_list])))\n",
    "    print(\"spms map:\", spms_map)\n",
    "    print(\"spms par:\", spms_par)\n",
    "else:     print(\"-> NO data for spms was found\")   \n",
    "\n",
    "spms_date_formatted = [get_day_hour(date) for date in spms_date]\n",
    "spms_time_option = [(key, value) for key,value in zip(spms_date_formatted, spms_date)]"
   ]
  },
  {
   "cell_type": "markdown",
   "id": "7509a3f0-38e1-4f4f-9c9e-30d339512b16",
   "metadata": {},
   "source": [
    "## Interactive widgets\n",
    "Define here the interactive widgets you want to include in the final plots. Data+time selection widget still needs to be implemented."
   ]
  },
  {
   "cell_type": "code",
   "execution_count": 16,
   "id": "86e0546b-55a6-4a28-8a54-673c18edd1c2",
   "metadata": {},
   "outputs": [],
   "source": [
    "# tab for selecting what to plot: par vs time, heatmap\n",
    "plot_type_buttons = widget.ToggleButtons(\n",
    "    options= ['par-vs-time', 'heatmap'],\n",
    "    description='Plot type:',\n",
    "    disabled=False,\n",
    "    button_style='', \n",
    "    tooltips=[]\n",
    ")\n",
    "\n",
    "# select widget for selecting the date (for geds) \n",
    "geds_time_select = widget.Select(\n",
    "    options=geds_time_option,\n",
    "    value=geds_date[0],\n",
    "    # rows=10,\n",
    "    description='Time:',\n",
    "    disabled=False,\n",
    "    layout={'width': 'max-content'}\n",
    ")\n",
    "\n",
    "# select widget for selecting the date (for spms)\n",
    "spms_time_select = widget.Select(\n",
    "    options=spms_time_option,\n",
    "    value=spms_date[0],\n",
    "    # rows=10,\n",
    "    description='Time:',\n",
    "    disabled=False,\n",
    "    layout={'width': 'max-content'}\n",
    ")\n",
    "\n",
    "\n",
    "# tab for selecting parameters to plot (for geds)\n",
    "par_geds_buttons = widget.ToggleButtons(\n",
    "    options= geds_par,\n",
    "    description='Parameter:',\n",
    "    disabled=False,\n",
    "    button_style='',\n",
    "    tooltips=[]\n",
    ")\n",
    "\n",
    "# tab for selecting parameters to plot (for spms)\n",
    "par_spms_buttons = widget.ToggleButtons(\n",
    "    options= spms_par,#par_spms,\n",
    "    description='Parameter:',\n",
    "    disabled=False,\n",
    "    button_style='',\n",
    "    tooltips=[]\n",
    ")\n",
    "\n",
    "# tab for selecting the string number (for geds)\n",
    "geds_map_buttons = widget.ToggleButtons(\n",
    "    options= geds_map,\n",
    "    description='String #:',\n",
    "    disabled=False,\n",
    "    button_style='',\n",
    "    tooltips=[],\n",
    ") \n",
    "\n",
    "# tab for selecting the string number (for spms)\n",
    "spms_map_buttons = widget.ToggleButtons(\n",
    "    options= spms_map,\n",
    "    description='Position:',\n",
    "    disabled=False,\n",
    "    button_style='',\n",
    "    tooltips=[],\n",
    ") "
   ]
  },
  {
   "cell_type": "markdown",
   "id": "674dc6fb-807a-4852-b626-aea9f00da0b3",
   "metadata": {
    "tags": []
   },
   "source": [
    "## Germanium detectors - plots"
   ]
  },
  {
   "cell_type": "code",
   "execution_count": 17,
   "id": "a40c5a78-d595-45b3-bc65-48bd4897cdb7",
   "metadata": {},
   "outputs": [
    {
     "data": {
      "application/vnd.jupyter.widget-view+json": {
       "model_id": "1744b9a41b7c499684bd62fb87a8a664",
       "version_major": 2,
       "version_minor": 0
      },
      "text/plain": [
       "VBox(children=(HBox(children=(Select(description='Time:', layout=Layout(width='max-content'), options=(('2022/…"
      ]
     },
     "metadata": {},
     "output_type": "display_data"
    }
   ],
   "source": [
    "# geds\n",
    "def plot_geds(plot_type, time_select, parameter, string):\n",
    "    ax = pkl.load(open(f'pkl-files/{plot_type}/{pkl_name}-{time_select}-{parameter}-{string}.pkl', 'rb'))\n",
    "    ax.plot(figsize=(50,50))\n",
    "    plt.tight_layout()\n",
    "    plt.show()\n",
    "    \n",
    "if geds_par == []:\n",
    "    print(f'There are no parameters to plot!')\n",
    "    sys.exit()\n",
    "out_geds = widget.interactive_output(plot_geds, {'plot_type'  :plot_type_buttons,\n",
    "                                                 'time_select':geds_time_select,\n",
    "                                                 'parameter'  :par_geds_buttons, \n",
    "                                                 'string'     :geds_map_buttons})\n",
    "\n",
    "widget.VBox([widget.HBox([geds_time_select,widget.VBox([plot_type_buttons, par_geds_buttons, geds_map_buttons])]),out_geds])"
   ]
  },
  {
   "cell_type": "markdown",
   "id": "d9d7b3a2-ed45-4791-8481-4ae4a9853197",
   "metadata": {},
   "source": [
    "## SiPM detectors - plots"
   ]
  },
  {
   "cell_type": "code",
   "execution_count": 8,
   "id": "1138b274-0b4d-4e1b-ab91-1560747bca3e",
   "metadata": {},
   "outputs": [
    {
     "data": {
      "application/vnd.jupyter.widget-view+json": {
       "model_id": "a4df85c15f6a460eb840e3332afdcee9",
       "version_major": 2,
       "version_minor": 0
      },
      "text/plain": [
       "VBox(children=(HBox(children=(Select(description='Time:', layout=Layout(width='max-content'), options=(('2022/…"
      ]
     },
     "metadata": {},
     "output_type": "display_data"
    }
   ],
   "source": [
    "# spms\n",
    "def plot_spms(plot_type, time_select, parameter, string):\n",
    "    ax = pkl.load(open(f'pkl-files/{plot_type}/{pkl_name}-{time_select}-{parameter}-{string}.pkl', 'rb'))\n",
    "    if parameter=='gain': ax[0].plot(figsize=(50,50))\n",
    "    else: ax.plot(figsize=(50,50))\n",
    "    plt.tight_layout()\n",
    "    plt.show()\n",
    "    \n",
    "if spms_par == []:\n",
    "    print(f'There are no parameters to plot!')\n",
    "    sys.exit()   \n",
    "out_spms = widget.interactive_output(plot_spms, {'plot_type'  :plot_type_buttons,\n",
    "                                                 'time_select':spms_time_select,\n",
    "                                                 'parameter'  :par_spms_buttons,\n",
    "                                                 'string'     :spms_map_buttons})\n",
    "\n",
    "widget.VBox([spms_time_select, plot_type_buttons, par_spms_buttons, spms_map_buttons, out_spms]) \n",
    "widget.VBox([widget.HBox([spms_time_select,widget.VBox([plot_type_buttons, par_spms_buttons, spms_map_buttons])]),out_spms])"
   ]
  }
 ],
 "metadata": {
  "kernelspec": {
   "display_name": "Python 3 (ipykernel)",
   "language": "python",
   "name": "python3"
  },
  "language_info": {
   "codemirror_mode": {
    "name": "ipython",
    "version": 3
   },
   "file_extension": ".py",
   "mimetype": "text/x-python",
   "name": "python",
   "nbconvert_exporter": "python",
   "pygments_lexer": "ipython3",
   "version": "3.9.7"
  }
 },
 "nbformat": 4,
 "nbformat_minor": 5
}
