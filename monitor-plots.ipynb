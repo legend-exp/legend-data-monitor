{
 "cells": [
  {
   "cell_type": "markdown",
   "id": "a4c665e1-3833-4658-8b86-8ded70cd9abb",
   "metadata": {},
   "source": [
    "# Offline monitoring\n",
    "\n",
    "This Jupyter Notebook helps to visualize the L60 data monitoring plots."
   ]
  },
  {
   "cell_type": "code",
   "execution_count": null,
   "id": "5e849fbc-e4dd-457d-b886-90163c1d406e",
   "metadata": {},
   "outputs": [],
   "source": [
    "%matplotlib widget\n",
    "import os, sys, json\n",
    "import matplotlib.pyplot as plt\n",
    "from matplotlib.patches import Rectangle\n",
    "from matplotlib import dates\n",
    "import pickle as pkl\n",
    "import ipywidgets as widget\n",
    "import ipydatetime\n",
    "import datetime\n",
    "import numpy as np\n",
    "from datetime import datetime, timezone\n",
    "\n",
    "def get_day_hour(date):\n",
    "    start = date.split('_')[0][:-1]\n",
    "    stop = date.split('_')[1][:-1]\n",
    "    start_day = datetime.strptime(start,\"%Y%m%dT%H%M%S\").strftime(f\"%Y/%m/%d %H:%M\")\n",
    "    stop_day = datetime.strptime(stop,\"%Y%m%dT%H%M%S\").strftime(f\"%Y/%m/%d %H:%M\")\n",
    "    \n",
    "    return start_day+\" -> \"+stop_day"
   ]
  },
  {
   "cell_type": "markdown",
   "id": "d47ec228-74f6-4176-a431-b621ecf75ff3",
   "metadata": {
    "tags": []
   },
   "source": [
    "## Load data\n",
    "Let's load the pickle files. Germanium detectors and SiPMs will be separately analyzed (considering different parameters are plotted for each one of them)."
   ]
  },
  {
   "cell_type": "code",
   "execution_count": null,
   "id": "70490998-1b20-4405-b5ff-a2195b1b7d33",
   "metadata": {},
   "outputs": [],
   "source": [
    "with open(\"config.json\") as f: \n",
    "    j_config = json.load(f)\n",
    "\n",
    "exp         = j_config['run_info']['exp']\n",
    "period      = j_config['period']\n",
    "run         = j_config['run']\n",
    "datatype    = j_config['datatype']\n",
    "\n",
    "pkl_name = exp + '-' + period + '-' + run + '-' + datatype \n",
    "print(\"The following analysis will be inspected:\", pkl_name)\n",
    "\n",
    "pkl_files = os.listdir('out/pkl-files/par-vs-time/')\n",
    "\n",
    "geds_list = [file for file in pkl_files if 'string' in file]      # geds: grouped by string\n",
    "spms_list = [file for file in pkl_files if 'string' not in file]  # spms: everything not grouped by string\n",
    "\n",
    "# geds\n",
    "if geds_list != []:\n",
    "    # configuration\n",
    "    geds_map = list(dict.fromkeys([file.split('-')[-1].split('.')[0] for file in geds_list]))\n",
    "    # parameters\n",
    "    geds_par = list(dict.fromkeys([file.split('-')[-2] for file in geds_list]))\n",
    "    geds_date = sorted(list(dict.fromkeys([file.split('-')[4] for file in geds_list])))\n",
    "    # date\n",
    "    print(\"\\ngeds map:\", geds_map)\n",
    "    print(\"geds par:\", geds_par)\n",
    "else: \n",
    "    geds_map = geds_par = geds_date = []\n",
    "    print(\"\\n-> NO data for geds was found\")\n",
    "\n",
    "geds_date_formatted = [get_day_hour(date) for date in geds_date]\n",
    "geds_time_option = [(key, value) for key,value in zip(geds_date_formatted, geds_date)]\n",
    "\n",
    "# spms\n",
    "if spms_list != []:\n",
    "    # configuration\n",
    "    spms_map  = list(dict.fromkeys([file.split('-')[-2].split('.')[0] for file in spms_list if 'OB' in file if 'gain' not in file]))\n",
    "    spms_map  += list(dict.fromkeys([file.split('-')[-1].split('.')[0] for file in spms_list if 'IB' in file if 'gain' not in file]))  \n",
    "    spms_map_gain  = list(dict.fromkeys([file.split('-')[-1].split('.')[0] for file in spms_list if 'gain' in file]))  \n",
    "    spms_map_div = []\n",
    "    for entry in spms_map:\n",
    "        if entry=='top_OB' or entry=='bot_OB':\n",
    "            spms_map_div.append(entry+'-1')\n",
    "            spms_map_div.append(entry+'-2')\n",
    "        else:\n",
    "            spms_map_div.append(entry)\n",
    "    # parameters\n",
    "    spms_par  = list(dict.fromkeys([file.split('-')[-3] for file in spms_list if 'OB' in file if 'gain' not in file]))\n",
    "    spms_par  = list(dict.fromkeys([file.split('-')[-2] for file in spms_list if 'IB' in file if 'gain' not in file]))\n",
    "    spms_par_gain  = list(dict.fromkeys([file.split('-')[-2] for file in spms_list if 'gain' in file]))\n",
    "    # date\n",
    "    spms_date = sorted(list(dict.fromkeys([file.split('-')[4] for file in spms_list])))\n",
    "    \n",
    "    print(\"\\nspms map (div):\", spms_map_div)\n",
    "    if spms_map_gain!=[]: print(\"spms map (gain):\", spms_map_gain)\n",
    "    print(\"spms par:\", spms_par_gain+spms_par)\n",
    "else:    \n",
    "    spms_map = spms_map_gain = spms_map_div = spms_par = spms_par_gain = spms_date = []\n",
    "    print(\"\\n-> NO data for spms was found\")   \n",
    "\n",
    "spms_date_formatted = [get_day_hour(date) for date in spms_date]\n",
    "spms_time_option = [(key, value) for key,value in zip(spms_date_formatted, spms_date)]"
   ]
  },
  {
   "cell_type": "markdown",
   "id": "7509a3f0-38e1-4f4f-9c9e-30d339512b16",
   "metadata": {},
   "source": [
    "## Interactive widgets\n",
    "Define here the interactive widgets you want to include in the final plots. Data+time selection widget still needs to be implemented."
   ]
  },
  {
   "cell_type": "code",
   "execution_count": null,
   "id": "86e0546b-55a6-4a28-8a54-673c18edd1c2",
   "metadata": {},
   "outputs": [],
   "source": [
    "if geds_date!=[]:\n",
    "    # select widget for selecting the date (for geds) \n",
    "    geds_time_select = widget.Select(\n",
    "        options=geds_time_option,\n",
    "        value=geds_date[0],\n",
    "        # rows=10,\n",
    "        description='Time:',\n",
    "        disabled=False,\n",
    "        layout={'width': 'max-content'}\n",
    "    )\n",
    "\n",
    "if spms_date!=[]:\n",
    "    # select widget for selecting the date (for spms)\n",
    "    spms_time_select = widget.Select(\n",
    "        options=spms_time_option,\n",
    "        value=spms_date[0],\n",
    "        # rows=10,\n",
    "        description='Time:',\n",
    "        disabled=False,\n",
    "        layout={'width': 'max-content'}\n",
    "    )\n",
    "\n",
    "\n",
    "# tab for selecting parameters to plot (for geds)\n",
    "par_geds_buttons = widget.ToggleButtons(\n",
    "    options= geds_par,\n",
    "    description='Parameter:',\n",
    "    disabled=False,\n",
    "    button_style='',\n",
    "    tooltips=[]\n",
    ")\n",
    "\n",
    "# tab for selecting parameters to plot (for spms)\n",
    "par_spms_buttons = widget.ToggleButtons(\n",
    "    options= spms_par,\n",
    "    description='Parameter:',\n",
    "    disabled=False,\n",
    "    button_style='',\n",
    "    tooltips=[]\n",
    ")\n",
    "\n",
    "# par-vs-time\n",
    "geds_map_buttons = widget.ToggleButtons(\n",
    "    options= geds_map,\n",
    "    description='String #:',\n",
    "    disabled=False,\n",
    "    button_style='',\n",
    "    tooltips=[],\n",
    ") \n",
    "spms_map_buttons = widget.ToggleButtons(\n",
    "    options= spms_map_div, \n",
    "    description='Position:',\n",
    "    disabled=False,\n",
    "    button_style='',\n",
    "    tooltips=[],\n",
    ") \n",
    "\n",
    "# gain\n",
    "spms_map_buttons_gain = widget.ToggleButtons(\n",
    "    options= spms_map_gain,\n",
    "    description='Position:',\n",
    "    disabled=False,\n",
    "    button_style='',\n",
    "    tooltips=[],\n",
    ") \n",
    "\n",
    "# heatmaps\n",
    "spms_map_buttons_heatmap = widget.ToggleButtons(\n",
    "    options= ['OB' ,'IB'],\n",
    "    description='Position:',\n",
    "    disabled=False,\n",
    "    button_style='',\n",
    "    tooltips=[],\n",
    ") "
   ]
  },
  {
   "cell_type": "markdown",
   "id": "674dc6fb-807a-4852-b626-aea9f00da0b3",
   "metadata": {
    "tags": []
   },
   "source": [
    "# Germanium detectors"
   ]
  },
  {
   "cell_type": "markdown",
   "id": "4535200e-aee8-4cdf-97d2-d54999b39eae",
   "metadata": {},
   "source": [
    "## par-vs-time plots"
   ]
  },
  {
   "cell_type": "code",
   "execution_count": null,
   "id": "a40c5a78-d595-45b3-bc65-48bd4897cdb7",
   "metadata": {},
   "outputs": [],
   "source": [
    "# geds\n",
    "def plot_geds(time_select, parameter, string):\n",
    "    ax = pkl.load(open(f'out/pkl-files/par-vs-time/{pkl_name}-{time_select}-{parameter}-{string}.pkl', 'rb'))\n",
    "    plt.tight_layout()\n",
    "    plt.grid()\n",
    "    plt.show()\n",
    "    \n",
    "if geds_par == []:\n",
    "    print(f'There are no parameters to plot!')\n",
    "    sys.exit()\n",
    "out_geds = widget.interactive_output(plot_geds, {'time_select':geds_time_select,\n",
    "                                                 'parameter'  :par_geds_buttons, \n",
    "                                                 'string'     :geds_map_buttons})\n",
    "\n",
    "widget.VBox([widget.HBox([geds_time_select,widget.VBox([par_geds_buttons, geds_map_buttons])]),out_geds])"
   ]
  },
  {
   "cell_type": "markdown",
   "id": "058d84f2-b5a2-42a6-bc35-85ff4cda5649",
   "metadata": {},
   "source": [
    "## heatmaps"
   ]
  },
  {
   "cell_type": "code",
   "execution_count": null,
   "id": "8415690d-a639-44c5-ae3b-c3778e268e87",
   "metadata": {
    "tags": []
   },
   "outputs": [],
   "source": [
    "# geds\n",
    "def plot_geds_heatmap(time_select, parameter):\n",
    "    fig = pkl.load(open(f'out/pkl-files/heatmaps/{pkl_name}-{time_select}-{parameter}.pkl', 'rb'))\n",
    "    plt.tight_layout()\n",
    "    plt.show()\n",
    "    \n",
    "if geds_par == []:\n",
    "    print(f'There are no parameters to plot!')\n",
    "    sys.exit()\n",
    "out_geds_heatmap = widget.interactive_output(plot_geds_heatmap, {'time_select':geds_time_select,\n",
    "                                                         'parameter'  :par_geds_buttons})\n",
    "\n",
    "widget.VBox([widget.HBox([geds_time_select,widget.VBox([par_geds_buttons])]),out_geds_heatmap])"
   ]
  },
  {
   "cell_type": "markdown",
   "id": "d9d7b3a2-ed45-4791-8481-4ae4a9853197",
   "metadata": {
    "tags": []
   },
   "source": [
    "# SiPM detectors "
   ]
  },
  {
   "cell_type": "markdown",
   "id": "a3f12e75-b4e9-4886-a3e1-1adc320aa23d",
   "metadata": {},
   "source": [
    "## par-vs-time plots"
   ]
  },
  {
   "cell_type": "code",
   "execution_count": null,
   "id": "1138b274-0b4d-4e1b-ab91-1560747bca3e",
   "metadata": {},
   "outputs": [],
   "source": [
    "# spms\n",
    "def plot_spms(time_select, parameter, string):\n",
    "    ax = pkl.load(open(f'out/pkl-files/par-vs-time/{pkl_name}-{time_select}-{parameter}-{string}.pkl', 'rb'))\n",
    "    plt.tight_layout()\n",
    "    plt.grid()\n",
    "    plt.show()\n",
    "    \n",
    "if spms_par == []:\n",
    "    print(f'There are no parameters to plot!')\n",
    "    sys.exit()   \n",
    "out_spms = widget.interactive_output(plot_spms, {'time_select':spms_time_select,\n",
    "                                                 'parameter'  :par_spms_buttons,\n",
    "                                                 'string'     :spms_map_buttons})\n",
    "\n",
    "widget.VBox([widget.HBox([spms_time_select,widget.VBox([par_spms_buttons, spms_map_buttons])]),out_spms])"
   ]
  },
  {
   "cell_type": "markdown",
   "id": "a58cc8b4-f263-4c61-a162-bc56690152d5",
   "metadata": {},
   "source": [
    "## gain plots"
   ]
  },
  {
   "cell_type": "code",
   "execution_count": null,
   "id": "b8de0933-9fc4-4aeb-93e5-4ce48220e631",
   "metadata": {},
   "outputs": [],
   "source": [
    "# spms\n",
    "def plot_spms_gain(time_select, string):\n",
    "    ax = pkl.load(open(f'out/pkl-files/par-vs-time/{pkl_name}-{time_select}-gain-{string}.pkl', 'rb'))\n",
    "    ax[0].plot()\n",
    "    plt.tight_layout()\n",
    "    plt.show()\n",
    "    \n",
    "if 'gain' not in spms_par_gain:\n",
    "    print(f'There is no gain to plot!')\n",
    "    sys.exit()   \n",
    "out_spms_gain = widget.interactive_output(plot_spms_gain, {'time_select':spms_time_select,\n",
    "                                                           'string'     :spms_map_buttons_gain})\n",
    "\n",
    "widget.VBox([widget.HBox([spms_time_select,widget.VBox([spms_map_buttons_gain])]),out_spms_gain])"
   ]
  },
  {
   "cell_type": "markdown",
   "id": "9be227f3-aa9b-452c-a631-5f89d44de6df",
   "metadata": {},
   "source": [
    "## heatmaps"
   ]
  },
  {
   "cell_type": "code",
   "execution_count": null,
   "id": "9970d0de-b9be-4c14-afab-04a7243918d1",
   "metadata": {},
   "outputs": [],
   "source": [
    "# spms\n",
    "def plot_spms_heatmap(time_select, parameter, string):\n",
    "    fig = pkl.load(open(f'out/pkl-files/heatmaps/{pkl_name}-{time_select}-{parameter}-{string}.pkl', 'rb'))\n",
    "    plt.tight_layout()\n",
    "    plt.show()\n",
    "    \n",
    "if spms_par == []:\n",
    "    print(f'There are no parameters to plot!')\n",
    "    sys.exit()   \n",
    "out_spms_heatmap = widget.interactive_output(plot_spms_heatmap, {'time_select':spms_time_select,\n",
    "                                                 'parameter'  :par_spms_buttons,\n",
    "                                                 'string'     :spms_map_buttons_heatmap})\n",
    "\n",
    "widget.VBox([widget.HBox([spms_time_select,widget.VBox([par_spms_buttons, spms_map_buttons_heatmap])]),out_spms_heatmap])"
   ]
  }
 ],
 "metadata": {},
 "nbformat": 4,
 "nbformat_minor": 5
}
